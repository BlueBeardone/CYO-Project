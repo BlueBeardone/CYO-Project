{
 "cells": [
  {
   "cell_type": "markdown",
   "id": "cb384248",
   "metadata": {},
   "source": [
    "<b><font size=\"5\">Neural Network</font></b>"
   ]
  },
  {
   "cell_type": "markdown",
   "id": "917e63bd",
   "metadata": {},
   "source": [
    "First we start by importing our liberaries"
   ]
  },
  {
   "cell_type": "code",
   "execution_count": 1,
   "id": "0c4333cf",
   "metadata": {},
   "outputs": [],
   "source": [
    "import pandas as pd\n",
    "import numpy as np\n",
    "import matplotlib.pyplot as plt\n",
    "import seaborn as sns\n",
    "\n",
    "from xgboost import XGBRegressor\n",
    "from sklearn.preprocessing import LabelEncoder\n",
    "from sklearn.preprocessing import MinMaxScaler\n",
    "\n",
    "from sklearn.model_selection import train_test_split\n",
    "from sklearn.metrics import mean_absolute_error, mean_squared_error\n",
    "from sklearn.metrics import accuracy_score"
   ]
  },
  {
   "cell_type": "markdown",
   "id": "67f71e77",
   "metadata": {},
   "source": [
    "Then we load and inspect our Data"
   ]
  },
  {
   "cell_type": "code",
   "execution_count": 2,
   "id": "6f49d445",
   "metadata": {},
   "outputs": [
    {
     "name": "stdout",
     "output_type": "stream",
     "text": [
      "<class 'pandas.core.frame.DataFrame'>\n",
      "RangeIndex: 75000 entries, 0 to 74999\n",
      "Data columns (total 9 columns):\n",
      " #   Column            Non-Null Count  Dtype\n",
      "---  ------            --------------  -----\n",
      " 0   Product_Code      75000 non-null  int64\n",
      " 1   Warehouse         75000 non-null  int64\n",
      " 2   Product_Category  75000 non-null  int64\n",
      " 3   Open              75000 non-null  int64\n",
      " 4   Promo             75000 non-null  int64\n",
      " 5   StateHoliday      75000 non-null  int64\n",
      " 6   SchoolHoliday     75000 non-null  int64\n",
      " 7   Petrol_price      75000 non-null  int64\n",
      " 8   High_Demand       75000 non-null  int64\n",
      "dtypes: int64(9)\n",
      "memory usage: 5.1 MB\n"
     ]
    },
    {
     "data": {
      "text/plain": [
       "None"
      ]
     },
     "metadata": {},
     "output_type": "display_data"
    },
    {
     "data": {
      "text/html": [
       "<div>\n",
       "<style scoped>\n",
       "    .dataframe tbody tr th:only-of-type {\n",
       "        vertical-align: middle;\n",
       "    }\n",
       "\n",
       "    .dataframe tbody tr th {\n",
       "        vertical-align: top;\n",
       "    }\n",
       "\n",
       "    .dataframe thead th {\n",
       "        text-align: right;\n",
       "    }\n",
       "</style>\n",
       "<table border=\"1\" class=\"dataframe\">\n",
       "  <thead>\n",
       "    <tr style=\"text-align: right;\">\n",
       "      <th></th>\n",
       "      <th>count</th>\n",
       "      <th>mean</th>\n",
       "      <th>std</th>\n",
       "      <th>min</th>\n",
       "      <th>25%</th>\n",
       "      <th>50%</th>\n",
       "      <th>75%</th>\n",
       "      <th>max</th>\n",
       "    </tr>\n",
       "  </thead>\n",
       "  <tbody>\n",
       "    <tr>\n",
       "      <th>Product_Code</th>\n",
       "      <td>75000.0</td>\n",
       "      <td>1033.671600</td>\n",
       "      <td>566.202755</td>\n",
       "      <td>0.0</td>\n",
       "      <td>585.0</td>\n",
       "      <td>1166.0</td>\n",
       "      <td>1420.0</td>\n",
       "      <td>2047.0</td>\n",
       "    </tr>\n",
       "    <tr>\n",
       "      <th>Warehouse</th>\n",
       "      <td>75000.0</td>\n",
       "      <td>1.662080</td>\n",
       "      <td>0.767909</td>\n",
       "      <td>0.0</td>\n",
       "      <td>2.0</td>\n",
       "      <td>2.0</td>\n",
       "      <td>2.0</td>\n",
       "      <td>3.0</td>\n",
       "    </tr>\n",
       "    <tr>\n",
       "      <th>Product_Category</th>\n",
       "      <td>75000.0</td>\n",
       "      <td>11.222293</td>\n",
       "      <td>7.884654</td>\n",
       "      <td>0.0</td>\n",
       "      <td>2.0</td>\n",
       "      <td>16.0</td>\n",
       "      <td>16.0</td>\n",
       "      <td>29.0</td>\n",
       "    </tr>\n",
       "    <tr>\n",
       "      <th>Open</th>\n",
       "      <td>75000.0</td>\n",
       "      <td>1.000000</td>\n",
       "      <td>0.000000</td>\n",
       "      <td>1.0</td>\n",
       "      <td>1.0</td>\n",
       "      <td>1.0</td>\n",
       "      <td>1.0</td>\n",
       "      <td>1.0</td>\n",
       "    </tr>\n",
       "    <tr>\n",
       "      <th>Promo</th>\n",
       "      <td>75000.0</td>\n",
       "      <td>0.469947</td>\n",
       "      <td>0.499099</td>\n",
       "      <td>0.0</td>\n",
       "      <td>0.0</td>\n",
       "      <td>0.0</td>\n",
       "      <td>1.0</td>\n",
       "      <td>1.0</td>\n",
       "    </tr>\n",
       "    <tr>\n",
       "      <th>StateHoliday</th>\n",
       "      <td>75000.0</td>\n",
       "      <td>0.001520</td>\n",
       "      <td>0.038958</td>\n",
       "      <td>0.0</td>\n",
       "      <td>0.0</td>\n",
       "      <td>0.0</td>\n",
       "      <td>0.0</td>\n",
       "      <td>1.0</td>\n",
       "    </tr>\n",
       "    <tr>\n",
       "      <th>SchoolHoliday</th>\n",
       "      <td>75000.0</td>\n",
       "      <td>0.000000</td>\n",
       "      <td>0.000000</td>\n",
       "      <td>0.0</td>\n",
       "      <td>0.0</td>\n",
       "      <td>0.0</td>\n",
       "      <td>0.0</td>\n",
       "      <td>0.0</td>\n",
       "    </tr>\n",
       "    <tr>\n",
       "      <th>Petrol_price</th>\n",
       "      <td>75000.0</td>\n",
       "      <td>88.005120</td>\n",
       "      <td>4.907611</td>\n",
       "      <td>80.0</td>\n",
       "      <td>84.0</td>\n",
       "      <td>88.0</td>\n",
       "      <td>92.0</td>\n",
       "      <td>96.0</td>\n",
       "    </tr>\n",
       "    <tr>\n",
       "      <th>High_Demand</th>\n",
       "      <td>75000.0</td>\n",
       "      <td>0.494067</td>\n",
       "      <td>0.499968</td>\n",
       "      <td>0.0</td>\n",
       "      <td>0.0</td>\n",
       "      <td>0.0</td>\n",
       "      <td>1.0</td>\n",
       "      <td>1.0</td>\n",
       "    </tr>\n",
       "  </tbody>\n",
       "</table>\n",
       "</div>"
      ],
      "text/plain": [
       "                    count         mean         std   min    25%     50%  \\\n",
       "Product_Code      75000.0  1033.671600  566.202755   0.0  585.0  1166.0   \n",
       "Warehouse         75000.0     1.662080    0.767909   0.0    2.0     2.0   \n",
       "Product_Category  75000.0    11.222293    7.884654   0.0    2.0    16.0   \n",
       "Open              75000.0     1.000000    0.000000   1.0    1.0     1.0   \n",
       "Promo             75000.0     0.469947    0.499099   0.0    0.0     0.0   \n",
       "StateHoliday      75000.0     0.001520    0.038958   0.0    0.0     0.0   \n",
       "SchoolHoliday     75000.0     0.000000    0.000000   0.0    0.0     0.0   \n",
       "Petrol_price      75000.0    88.005120    4.907611  80.0   84.0    88.0   \n",
       "High_Demand       75000.0     0.494067    0.499968   0.0    0.0     0.0   \n",
       "\n",
       "                     75%     max  \n",
       "Product_Code      1420.0  2047.0  \n",
       "Warehouse            2.0     3.0  \n",
       "Product_Category    16.0    29.0  \n",
       "Open                 1.0     1.0  \n",
       "Promo                1.0     1.0  \n",
       "StateHoliday         0.0     1.0  \n",
       "SchoolHoliday        0.0     0.0  \n",
       "Petrol_price        92.0    96.0  \n",
       "High_Demand          1.0     1.0  "
      ]
     },
     "metadata": {},
     "output_type": "display_data"
    },
    {
     "data": {
      "text/html": [
       "<div>\n",
       "<style scoped>\n",
       "    .dataframe tbody tr th:only-of-type {\n",
       "        vertical-align: middle;\n",
       "    }\n",
       "\n",
       "    .dataframe tbody tr th {\n",
       "        vertical-align: top;\n",
       "    }\n",
       "\n",
       "    .dataframe thead th {\n",
       "        text-align: right;\n",
       "    }\n",
       "</style>\n",
       "<table border=\"1\" class=\"dataframe\">\n",
       "  <thead>\n",
       "    <tr style=\"text-align: right;\">\n",
       "      <th></th>\n",
       "      <th>Product_Code</th>\n",
       "      <th>Warehouse</th>\n",
       "      <th>Product_Category</th>\n",
       "      <th>Open</th>\n",
       "      <th>Promo</th>\n",
       "      <th>StateHoliday</th>\n",
       "      <th>SchoolHoliday</th>\n",
       "      <th>Petrol_price</th>\n",
       "      <th>High_Demand</th>\n",
       "    </tr>\n",
       "  </thead>\n",
       "  <tbody>\n",
       "    <tr>\n",
       "      <th>0</th>\n",
       "      <td>1269</td>\n",
       "      <td>2</td>\n",
       "      <td>16</td>\n",
       "      <td>1</td>\n",
       "      <td>1</td>\n",
       "      <td>0</td>\n",
       "      <td>0</td>\n",
       "      <td>85</td>\n",
       "      <td>1</td>\n",
       "    </tr>\n",
       "    <tr>\n",
       "      <th>1</th>\n",
       "      <td>1441</td>\n",
       "      <td>2</td>\n",
       "      <td>16</td>\n",
       "      <td>1</td>\n",
       "      <td>0</td>\n",
       "      <td>0</td>\n",
       "      <td>0</td>\n",
       "      <td>80</td>\n",
       "      <td>1</td>\n",
       "    </tr>\n",
       "    <tr>\n",
       "      <th>2</th>\n",
       "      <td>1295</td>\n",
       "      <td>2</td>\n",
       "      <td>16</td>\n",
       "      <td>1</td>\n",
       "      <td>1</td>\n",
       "      <td>0</td>\n",
       "      <td>0</td>\n",
       "      <td>93</td>\n",
       "      <td>1</td>\n",
       "    </tr>\n",
       "    <tr>\n",
       "      <th>3</th>\n",
       "      <td>1141</td>\n",
       "      <td>2</td>\n",
       "      <td>16</td>\n",
       "      <td>1</td>\n",
       "      <td>0</td>\n",
       "      <td>0</td>\n",
       "      <td>0</td>\n",
       "      <td>95</td>\n",
       "      <td>1</td>\n",
       "    </tr>\n",
       "    <tr>\n",
       "      <th>4</th>\n",
       "      <td>982</td>\n",
       "      <td>2</td>\n",
       "      <td>4</td>\n",
       "      <td>1</td>\n",
       "      <td>0</td>\n",
       "      <td>0</td>\n",
       "      <td>0</td>\n",
       "      <td>93</td>\n",
       "      <td>1</td>\n",
       "    </tr>\n",
       "  </tbody>\n",
       "</table>\n",
       "</div>"
      ],
      "text/plain": [
       "   Product_Code  Warehouse  Product_Category  Open  Promo  StateHoliday  \\\n",
       "0          1269          2                16     1      1             0   \n",
       "1          1441          2                16     1      0             0   \n",
       "2          1295          2                16     1      1             0   \n",
       "3          1141          2                16     1      0             0   \n",
       "4           982          2                 4     1      0             0   \n",
       "\n",
       "   SchoolHoliday  Petrol_price  High_Demand  \n",
       "0              0            85            1  \n",
       "1              0            80            1  \n",
       "2              0            93            1  \n",
       "3              0            95            1  \n",
       "4              0            93            1  "
      ]
     },
     "metadata": {},
     "output_type": "display_data"
    }
   ],
   "source": [
    "df = pd.read_csv(r\"..\\data\\sample_ml_data_75000.csv\")\n",
    "display(df.info())\n",
    "display(df.describe().T)\n",
    "display(df.head(5))"
   ]
  },
  {
   "cell_type": "markdown",
   "id": "b6df2789",
   "metadata": {},
   "source": [
    "<b><font size=\"5\">Feature Engineering</font></b>"
   ]
  },
  {
   "cell_type": "markdown",
   "id": "370346c8",
   "metadata": {},
   "source": [
    "Date shows the date of the last product count. We can change this to an attribute, to show the day, month, and year as numerical values"
   ]
  },
  {
   "cell_type": "markdown",
   "id": "68846d1c",
   "metadata": {},
   "source": [
    "# Convert date to datetime - using the correct format\n",
    "df['Date'] = pd.to_datetime(df['Date'], format='%m/%d/%Y')  # Changed format\n",
    "df['Day'] = df['Date'].dt.day\n",
    "df['Month'] = df['Date'].dt.month\n",
    "df['Year'] = df['Date'].dt.year\n",
    "df['DayOfWeek'] = df['Date'].dt.dayofweek\n",
    "\n",
    "#Drop the old Date column\n",
    "df.drop(columns=\"Date\", inplace=True)\n",
    "\n",
    "display(df.head())"
   ]
  },
  {
   "cell_type": "markdown",
   "id": "fd1881b9",
   "metadata": {},
   "source": [
    "We can also drop other columns that does not affect the ouput. The first three columns have the same value for all records, and StudentID is just an identifier"
   ]
  },
  {
   "cell_type": "code",
   "execution_count": 3,
   "id": "1d3ff5d4",
   "metadata": {},
   "outputs": [
    {
     "data": {
      "text/html": [
       "<div>\n",
       "<style scoped>\n",
       "    .dataframe tbody tr th:only-of-type {\n",
       "        vertical-align: middle;\n",
       "    }\n",
       "\n",
       "    .dataframe tbody tr th {\n",
       "        vertical-align: top;\n",
       "    }\n",
       "\n",
       "    .dataframe thead th {\n",
       "        text-align: right;\n",
       "    }\n",
       "</style>\n",
       "<table border=\"1\" class=\"dataframe\">\n",
       "  <thead>\n",
       "    <tr style=\"text-align: right;\">\n",
       "      <th></th>\n",
       "      <th>Product_Code</th>\n",
       "      <th>Warehouse</th>\n",
       "      <th>Product_Category</th>\n",
       "      <th>Promo</th>\n",
       "      <th>Petrol_price</th>\n",
       "      <th>High_Demand</th>\n",
       "    </tr>\n",
       "  </thead>\n",
       "  <tbody>\n",
       "    <tr>\n",
       "      <th>0</th>\n",
       "      <td>1269</td>\n",
       "      <td>2</td>\n",
       "      <td>16</td>\n",
       "      <td>1</td>\n",
       "      <td>85</td>\n",
       "      <td>1</td>\n",
       "    </tr>\n",
       "    <tr>\n",
       "      <th>1</th>\n",
       "      <td>1441</td>\n",
       "      <td>2</td>\n",
       "      <td>16</td>\n",
       "      <td>0</td>\n",
       "      <td>80</td>\n",
       "      <td>1</td>\n",
       "    </tr>\n",
       "    <tr>\n",
       "      <th>2</th>\n",
       "      <td>1295</td>\n",
       "      <td>2</td>\n",
       "      <td>16</td>\n",
       "      <td>1</td>\n",
       "      <td>93</td>\n",
       "      <td>1</td>\n",
       "    </tr>\n",
       "    <tr>\n",
       "      <th>3</th>\n",
       "      <td>1141</td>\n",
       "      <td>2</td>\n",
       "      <td>16</td>\n",
       "      <td>0</td>\n",
       "      <td>95</td>\n",
       "      <td>1</td>\n",
       "    </tr>\n",
       "    <tr>\n",
       "      <th>4</th>\n",
       "      <td>982</td>\n",
       "      <td>2</td>\n",
       "      <td>4</td>\n",
       "      <td>0</td>\n",
       "      <td>93</td>\n",
       "      <td>1</td>\n",
       "    </tr>\n",
       "  </tbody>\n",
       "</table>\n",
       "</div>"
      ],
      "text/plain": [
       "   Product_Code  Warehouse  Product_Category  Promo  Petrol_price  High_Demand\n",
       "0          1269          2                16      1            85            1\n",
       "1          1441          2                16      0            80            1\n",
       "2          1295          2                16      1            93            1\n",
       "3          1141          2                16      0            95            1\n",
       "4           982          2                 4      0            93            1"
      ]
     },
     "metadata": {},
     "output_type": "display_data"
    }
   ],
   "source": [
    "df.drop(columns=['Open', 'SchoolHoliday', 'StateHoliday'],inplace=True)\n",
    "display(df.head())"
   ]
  },
  {
   "cell_type": "markdown",
   "id": "52cb8617",
   "metadata": {},
   "source": [
    "Now we can find our categorical, and numerical features"
   ]
  },
  {
   "cell_type": "code",
   "execution_count": 4,
   "id": "80492d46",
   "metadata": {},
   "outputs": [
    {
     "name": "stdout",
     "output_type": "stream",
     "text": [
      "Numeric Features    : ['Product_Code', 'Warehouse', 'Product_Category', 'Promo', 'Petrol_price']\n",
      "Categorical Features: []\n"
     ]
    }
   ],
   "source": [
    "output_var = 'High_Demand'\n",
    "numeric_data = df.select_dtypes(include=['number']).columns.tolist()\n",
    "numeric_features = [col for col in numeric_data if col != output_var]\n",
    "categorical_features = df.select_dtypes(include=['object', 'category']).columns.tolist()\n",
    "\n",
    "print(f'Numeric Features    : {numeric_features}')\n",
    "print(f'Categorical Features: {categorical_features}')"
   ]
  },
  {
   "cell_type": "markdown",
   "id": "076a9fdf",
   "metadata": {},
   "source": [
    "**Numerical Data Engineering**"
   ]
  },
  {
   "cell_type": "markdown",
   "id": "e88c016d",
   "metadata": {},
   "source": [
    "Now we can visualize our Numerical Data"
   ]
  },
  {
   "cell_type": "code",
   "execution_count": 5,
   "id": "c243960f",
   "metadata": {},
   "outputs": [
    {
     "data": {
      "image/png": "[encoded data removed]",
      "text/plain": [
       "<Figure size 800x400 with 5 Axes>"
      ]
     },
     "metadata": {},
     "output_type": "display_data"
    }
   ],
   "source": [
    "plt.figure(figsize=(8, 4))\n",
    "for i, col in enumerate(df[numeric_features].columns):\n",
    "    plt.subplot(2, 3, i+1)\n",
    "    sns.histplot(df[col], kde=True)\n",
    "    plt.title(col)\n",
    "plt.tight_layout()\n",
    "plt.show()"
   ]
  },
  {
   "cell_type": "markdown",
   "id": "b4a5fbb9",
   "metadata": {},
   "source": [
    "This data seems very seasonal. We can test for skewness using the skewness coefficient. We see that no skewness coefficient is over 1"
   ]
  },
  {
   "cell_type": "code",
   "execution_count": 6,
   "id": "c4318d0a",
   "metadata": {},
   "outputs": [
    {
     "name": "stdout",
     "output_type": "stream",
     "text": [
      "Product_Code = -0.19112473619496223\n",
      "Warehouse = -1.433598589290207\n",
      "Product_Category = -0.09983296975917293\n",
      "Promo = 0.12043348624522568\n",
      "Petrol_price = -0.008079774268644464\n",
      "High_Demand = 0.023735479259690096\n"
     ]
    }
   ],
   "source": [
    "for col in numeric_data:\n",
    "    print(f'{col} = {df[col].skew()}')"
   ]
  },
  {
   "cell_type": "markdown",
   "id": "b28feb18",
   "metadata": {},
   "source": [
    "Now we can generate box-plots of our features"
   ]
  },
  {
   "cell_type": "code",
   "execution_count": 7,
   "id": "c6493aa3",
   "metadata": {},
   "outputs": [
    {
     "data": {
      "image/png": "[encoded data removed]",
      "text/plain": [
       "<Figure size 1000x600 with 1 Axes>"
      ]
     },
     "metadata": {},
     "output_type": "display_data"
    }
   ],
   "source": [
    "fig, ax = plt.subplots(figsize=(10, 6))\n",
    "boxplot = df[numeric_features].boxplot(vert = 0, ax=ax)  \n",
    "_ = ax.set_title(f'Box Plot: Transformed Data')"
   ]
  },
  {
   "cell_type": "markdown",
   "id": "bd003a80",
   "metadata": {},
   "source": [
    "We can apply slight scaling to all numeric data. We can use the minmax scaler to scale the values of all features to fit between 0 and 1 to fit with our promo values"
   ]
  },
  {
   "cell_type": "code",
   "execution_count": 8,
   "id": "445dc6cf",
   "metadata": {},
   "outputs": [
    {
     "data": {
      "image/png": "[encoded data removed]",
      "text/plain": [
       "<Figure size 1000x600 with 1 Axes>"
      ]
     },
     "metadata": {},
     "output_type": "display_data"
    }
   ],
   "source": [
    "scaler = MinMaxScaler(feature_range=(0, 2))\n",
    "scaler.fit(df[numeric_features])\n",
    "\n",
    "df[numeric_features] = scaler.transform(df[numeric_features])\n",
    "\n",
    "fig, ax = plt.subplots(figsize=(10, 6))\n",
    "boxplot = df[numeric_features].boxplot(vert = 0, ax=ax)  \n",
    "_ = ax.set_title(f'Box Plot: Transformed Data')"
   ]
  },
  {
   "cell_type": "markdown",
   "id": "b6a1bfa0",
   "metadata": {},
   "source": [
    "**Categorical Data Engineering**"
   ]
  },
  {
   "cell_type": "code",
   "execution_count": 9,
   "id": "782a41e4",
   "metadata": {},
   "outputs": [
    {
     "name": "stdout",
     "output_type": "stream",
     "text": [
      "Categorical Features: []\n"
     ]
    }
   ],
   "source": [
    "print(f'Categorical Features: {categorical_features}')"
   ]
  },
  {
   "cell_type": "markdown",
   "id": "431f1a1f",
   "metadata": {},
   "source": [
    "We can encode values to our categorical data"
   ]
  },
  {
   "cell_type": "code",
   "execution_count": 10,
   "id": "c8aefd47",
   "metadata": {},
   "outputs": [],
   "source": [
    "# Encode categorical variables\n",
    "label_encoders = {}\n",
    "categorical_cols = ['Product_Code', 'Warehouse', 'Product_Category']\n",
    "for col in categorical_cols:\n",
    "    le = LabelEncoder()\n",
    "    df[col] = le.fit_transform(df[col])\n",
    "    label_encoders[col] = le"
   ]
  },
  {
   "cell_type": "markdown",
   "id": "0d607ae5",
   "metadata": {},
   "source": [
    "View our correlation coefficients"
   ]
  },
  {
   "cell_type": "code",
   "execution_count": 11,
   "id": "5dfa3d69",
   "metadata": {},
   "outputs": [],
   "source": [
    "def CorrPlot(df, dropDuplicates = True, figsize = (8, 6)):\n",
    "    # df = df.corr()\n",
    "    df = np.abs(df.corr())\n",
    "    # Exclude duplicate correlations by masking upper right values\n",
    "    if dropDuplicates:    \n",
    "        mask = np.zeros_like(df, dtype=bool)\n",
    "        mask[np.triu_indices_from(mask)] = True\n",
    "    # Set background color / chart style\n",
    "    sns.set_style(style = 'white')\n",
    "    # Set up  matplotlib figure\n",
    "    f, ax = plt.subplots(figsize=figsize)\n",
    "    # Add diverging colormap from red to blue\n",
    "    cmap = sns.diverging_palette(250, 10, as_cmap=True)\n",
    "    # Draw correlation plot with or without duplicates\n",
    "    if dropDuplicates:\n",
    "        sns.heatmap(df, mask=mask, cmap=cmap, \n",
    "                    annot=True,\n",
    "                    square=True,\n",
    "                    linewidth=.5, cbar_kws={\"shrink\": .75}, ax=ax)\n",
    "    else:\n",
    "        sns.heatmap(df, cmap=cmap, \n",
    "                square=True,\n",
    "                annot=True,\n",
    "                linewidth=.5, cbar_kws={\"shrink\": .5}, ax=ax)"
   ]
  },
  {
   "cell_type": "code",
   "execution_count": 12,
   "id": "388e9e7d",
   "metadata": {},
   "outputs": [
    {
     "data": {
      "image/png": "[encoded data removed]",
      "text/plain": [
       "<Figure size 1200x1000 with 2 Axes>"
      ]
     },
     "metadata": {},
     "output_type": "display_data"
    }
   ],
   "source": [
    "CorrPlot(df, figsize = (12, 10))"
   ]
  },
  {
   "cell_type": "markdown",
   "id": "f675e732",
   "metadata": {},
   "source": [
    "Extract features and define input and output variables"
   ]
  },
  {
   "cell_type": "code",
   "execution_count": 13,
   "id": "2fb86222",
   "metadata": {},
   "outputs": [
    {
     "data": {
      "text/html": [
       "<div>\n",
       "<style scoped>\n",
       "    .dataframe tbody tr th:only-of-type {\n",
       "        vertical-align: middle;\n",
       "    }\n",
       "\n",
       "    .dataframe tbody tr th {\n",
       "        vertical-align: top;\n",
       "    }\n",
       "\n",
       "    .dataframe thead th {\n",
       "        text-align: right;\n",
       "    }\n",
       "</style>\n",
       "<table border=\"1\" class=\"dataframe\">\n",
       "  <thead>\n",
       "    <tr style=\"text-align: right;\">\n",
       "      <th></th>\n",
       "      <th>Product_Code</th>\n",
       "      <th>Warehouse</th>\n",
       "      <th>Product_Category</th>\n",
       "      <th>Promo</th>\n",
       "      <th>Petrol_price</th>\n",
       "    </tr>\n",
       "  </thead>\n",
       "  <tbody>\n",
       "    <tr>\n",
       "      <th>0</th>\n",
       "      <td>1262</td>\n",
       "      <td>2</td>\n",
       "      <td>16</td>\n",
       "      <td>2.0</td>\n",
       "      <td>0.625</td>\n",
       "    </tr>\n",
       "    <tr>\n",
       "      <th>1</th>\n",
       "      <td>1433</td>\n",
       "      <td>2</td>\n",
       "      <td>16</td>\n",
       "      <td>0.0</td>\n",
       "      <td>0.000</td>\n",
       "    </tr>\n",
       "    <tr>\n",
       "      <th>2</th>\n",
       "      <td>1287</td>\n",
       "      <td>2</td>\n",
       "      <td>16</td>\n",
       "      <td>2.0</td>\n",
       "      <td>1.625</td>\n",
       "    </tr>\n",
       "    <tr>\n",
       "      <th>3</th>\n",
       "      <td>1134</td>\n",
       "      <td>2</td>\n",
       "      <td>16</td>\n",
       "      <td>0.0</td>\n",
       "      <td>1.875</td>\n",
       "    </tr>\n",
       "    <tr>\n",
       "      <th>4</th>\n",
       "      <td>975</td>\n",
       "      <td>2</td>\n",
       "      <td>4</td>\n",
       "      <td>0.0</td>\n",
       "      <td>1.625</td>\n",
       "    </tr>\n",
       "    <tr>\n",
       "      <th>...</th>\n",
       "      <td>...</td>\n",
       "      <td>...</td>\n",
       "      <td>...</td>\n",
       "      <td>...</td>\n",
       "      <td>...</td>\n",
       "    </tr>\n",
       "    <tr>\n",
       "      <th>74995</th>\n",
       "      <td>918</td>\n",
       "      <td>0</td>\n",
       "      <td>3</td>\n",
       "      <td>0.0</td>\n",
       "      <td>0.375</td>\n",
       "    </tr>\n",
       "    <tr>\n",
       "      <th>74996</th>\n",
       "      <td>1363</td>\n",
       "      <td>2</td>\n",
       "      <td>16</td>\n",
       "      <td>2.0</td>\n",
       "      <td>0.000</td>\n",
       "    </tr>\n",
       "    <tr>\n",
       "      <th>74997</th>\n",
       "      <td>125</td>\n",
       "      <td>0</td>\n",
       "      <td>18</td>\n",
       "      <td>0.0</td>\n",
       "      <td>1.125</td>\n",
       "    </tr>\n",
       "    <tr>\n",
       "      <th>74998</th>\n",
       "      <td>1284</td>\n",
       "      <td>2</td>\n",
       "      <td>16</td>\n",
       "      <td>0.0</td>\n",
       "      <td>0.125</td>\n",
       "    </tr>\n",
       "    <tr>\n",
       "      <th>74999</th>\n",
       "      <td>51</td>\n",
       "      <td>2</td>\n",
       "      <td>2</td>\n",
       "      <td>0.0</td>\n",
       "      <td>0.500</td>\n",
       "    </tr>\n",
       "  </tbody>\n",
       "</table>\n",
       "<p>75000 rows × 5 columns</p>\n",
       "</div>"
      ],
      "text/plain": [
       "       Product_Code  Warehouse  Product_Category  Promo  Petrol_price\n",
       "0              1262          2                16    2.0         0.625\n",
       "1              1433          2                16    0.0         0.000\n",
       "2              1287          2                16    2.0         1.625\n",
       "3              1134          2                16    0.0         1.875\n",
       "4               975          2                 4    0.0         1.625\n",
       "...             ...        ...               ...    ...           ...\n",
       "74995           918          0                 3    0.0         0.375\n",
       "74996          1363          2                16    2.0         0.000\n",
       "74997           125          0                18    0.0         1.125\n",
       "74998          1284          2                16    0.0         0.125\n",
       "74999            51          2                 2    0.0         0.500\n",
       "\n",
       "[75000 rows x 5 columns]"
      ]
     },
     "metadata": {},
     "output_type": "display_data"
    },
    {
     "data": {
      "text/plain": [
       "0        1\n",
       "1        1\n",
       "2        1\n",
       "3        1\n",
       "4        1\n",
       "        ..\n",
       "74995    0\n",
       "74996    1\n",
       "74997    0\n",
       "74998    1\n",
       "74999    1\n",
       "Name: High_Demand, Length: 75000, dtype: int64"
      ]
     },
     "metadata": {},
     "output_type": "display_data"
    }
   ],
   "source": [
    "features = df.columns.drop(output_var).to_list()\n",
    "X = df[features]\n",
    "Y = df[output_var]\n",
    "display(X, Y)"
   ]
  },
  {
   "cell_type": "markdown",
   "id": "b891827f",
   "metadata": {},
   "source": [
    "Now we can split our data into testing and training sets"
   ]
  },
  {
   "cell_type": "code",
   "execution_count": 14,
   "id": "eb47a756",
   "metadata": {},
   "outputs": [],
   "source": [
    "# Split data into train and test sets\n",
    "X_train, X_test, Y_train, Y_test = train_test_split(X, Y, test_size=0.3, random_state=7)"
   ]
  },
  {
   "cell_type": "markdown",
   "id": "bd509c20",
   "metadata": {},
   "source": [
    "<b><font size=\"5\">Machine Model Training</font></b>"
   ]
  },
  {
   "cell_type": "markdown",
   "id": "d629dbfc",
   "metadata": {},
   "source": [
    "**Neural Network**"
   ]
  },
  {
   "cell_type": "code",
   "execution_count": 15,
   "id": "bbe1c69f",
   "metadata": {},
   "outputs": [],
   "source": [
    "from sklearn.preprocessing import StandardScaler\n",
    "from sklearn.neural_network import MLPClassifier\n",
    "scaler = StandardScaler()\n",
    "X_train_scaled = scaler.fit_transform(X_train)\n",
    "X_test_scaled = scaler.transform(X_test)\n",
    "\n",
    "# Create a neural network model\n",
    "mlp = MLPClassifier(hidden_layer_sizes=(10, 10),  # 10 hidden layers with 10 neurons each\n",
    "                    max_iter=1000,                # Max iterations for training\n",
    "                    activation='logistic',            # Activation function\n",
    "                    solver='adam',                # Optimizer\n",
    "                    random_state=42)\n",
    "\n",
    "# Train the model\n",
    "mlp.fit(X_train_scaled, Y_train)\n",
    "\n",
    "# Predict and evaluate\n",
    "y_pred = mlp.predict(X_test_scaled)"
   ]
  },
  {
   "cell_type": "code",
   "execution_count": 16,
   "id": "02cbadb6",
   "metadata": {},
   "outputs": [
    {
     "name": "stdout",
     "output_type": "stream",
     "text": [
      "Accuracy: 0.7969333333333334\n",
      "Classification Report:\n",
      "               precision    recall  f1-score   support\n",
      "\n",
      "           0       0.82      0.76      0.79     11349\n",
      "           1       0.78      0.83      0.80     11151\n",
      "\n",
      "    accuracy                           0.80     22500\n",
      "   macro avg       0.80      0.80      0.80     22500\n",
      "weighted avg       0.80      0.80      0.80     22500\n",
      "\n"
     ]
    }
   ],
   "source": [
    "from sklearn.metrics import classification_report, accuracy_score\n",
    "print(\"Accuracy:\", accuracy_score(Y_test, y_pred))\n",
    "print(\"Classification Report:\\n\", classification_report(Y_test, y_pred))"
   ]
  }
 ],
 "metadata": {
  "kernelspec": {
   "display_name": "base",
   "language": "python",
   "name": "python3"
  },
  "language_info": {
   "codemirror_mode": {
    "name": "ipython",
    "version": 3
   },
   "file_extension": ".py",
   "mimetype": "text/x-python",
   "name": "python",
   "nbconvert_exporter": "python",
   "pygments_lexer": "ipython3",
   "version": "3.12.7"
  }
 },
 "nbformat": 4,
 "nbformat_minor": 5
}
